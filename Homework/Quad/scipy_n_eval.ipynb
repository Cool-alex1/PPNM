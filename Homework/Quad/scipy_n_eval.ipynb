{
 "cells": [
  {
   "cell_type": "code",
   "execution_count": null,
   "metadata": {},
   "outputs": [],
   "source": [
    "import math as m\n",
    "import scipy.integrate as sci\n",
    "\n",
    "def nEval(f, a, b):\n",
    "    integral = sci.quad(f, a, b, full_output=1, epsabs=1e-4, epsrel=1e-4)\n",
    "    n = integral[2][\"neval\"]\n",
    "    print(f\"Number of evaluations from {a} to {b}: {n}\")"
   ]
  },
  {
   "cell_type": "code",
   "execution_count": 8,
   "metadata": {},
   "outputs": [
    {
     "name": "stdout",
     "output_type": "stream",
     "text": [
      "Number of evaluations from 0 to 1: 231\n",
      "Number of evaluations from 0 to 1: 315\n",
      "Number of evaluations from 1 to inf: 15\n",
      "Number of evaluations from -inf to inf: 150\n"
     ]
    }
   ],
   "source": [
    "f1 = lambda x: 1/m.sqrt(x)\n",
    "f2 = lambda x: m.log(x)/m.sqrt(x)\n",
    "f3 = lambda x: 1/x**3\n",
    "f4 = lambda x: 1/m.sqrt(2*m.pi)*m.exp(-0.5*x**2)\n",
    "\n",
    "nEval(f1, 0, 1)\n",
    "nEval(f2, 0, 1)\n",
    "nEval(f3, 1, m.inf)\n",
    "nEval(f4, -m.inf, m.inf)"
   ]
  }
 ],
 "metadata": {
  "kernelspec": {
   "display_name": "base",
   "language": "python",
   "name": "python3"
  },
  "language_info": {
   "codemirror_mode": {
    "name": "ipython",
    "version": 3
   },
   "file_extension": ".py",
   "mimetype": "text/x-python",
   "name": "python",
   "nbconvert_exporter": "python",
   "pygments_lexer": "ipython3",
   "version": "3.9.12"
  }
 },
 "nbformat": 4,
 "nbformat_minor": 2
}
